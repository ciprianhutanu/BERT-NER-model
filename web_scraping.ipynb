{
 "cells": [
  {
   "cell_type": "code",
   "id": "initial_id",
   "metadata": {
    "collapsed": true,
    "ExecuteTime": {
     "end_time": "2024-05-10T14:55:37.776638Z",
     "start_time": "2024-05-10T14:55:31.342031Z"
    }
   },
   "source": [
    "import csv\n",
    "\n",
    "from utils import urls_to_texts\n",
    "\n",
    "import numpy as np\n",
    "import pandas as pd\n",
    "import pyarrow as pa\n",
    "import pyarrow.parquet as pq"
   ],
   "outputs": [
    {
     "name": "stdout",
     "output_type": "stream",
     "text": [
      "['Console Tables', 'Beds', 'Dining Tables', 'Media', 'Desks', 'Dining', 'Media Cabinets', 'Dressers', 'Nightstands', 'Nightstand', 'Office Desks', 'Coffee Tables', 'Wood Veneer', 'Sophia', 'Office', '2 Drawer Nightstand', 'Rattan Panels', 'Side Tables', 'Acacia Wood Rattan']\n"
     ]
    }
   ],
   "execution_count": 1
  },
  {
   "metadata": {
    "ExecuteTime": {
     "end_time": "2024-05-10T14:55:46.264927Z",
     "start_time": "2024-05-10T14:55:46.262713Z"
    }
   },
   "cell_type": "code",
   "source": [
    "headers = {\n",
    "    'User-Agent': 'Mozilla/5.0 (Windows NT 10.0; Win64; x64) AppleWebKit/537.36 (KHTML, like Gecko) Chrome/58.0.3029.110 Safari/537.36',\n",
    "}"
   ],
   "id": "21667100409f0569",
   "outputs": [],
   "execution_count": 2
  },
  {
   "metadata": {
    "ExecuteTime": {
     "end_time": "2024-05-10T14:55:57.375511Z",
     "start_time": "2024-05-10T14:55:57.363647Z"
    }
   },
   "cell_type": "code",
   "source": [
    "urls = []\n",
    "\n",
    "with open('raw_data/furniture stores pages.csv') as file:\n",
    "    reader = csv.reader(file)\n",
    "    header = next(reader)\n",
    "    for row in reader:\n",
    "        urls.append(row[0])"
   ],
   "id": "4531906f41ba83e",
   "outputs": [],
   "execution_count": 3
  },
  {
   "metadata": {
    "ExecuteTime": {
     "end_time": "2024-05-10T15:23:39.412931Z",
     "start_time": "2024-05-10T14:55:59.137053Z"
    }
   },
   "cell_type": "code",
   "source": "site_text = urls_to_texts(urls, headers)[0]",
   "id": "337fe78470f761d2",
   "outputs": [],
   "execution_count": 4
  },
  {
   "metadata": {
    "ExecuteTime": {
     "end_time": "2024-05-10T15:24:38.674070Z",
     "start_time": "2024-05-10T15:24:38.629003Z"
    }
   },
   "cell_type": "code",
   "source": [
    "df = pd.DataFrame({\"url\": urls, \"text\": site_text})\n",
    "\n",
    "table = pa.Table.from_pandas(df)   \n",
    "\n",
    "pq.write_table(table, \"raw_data/furniture_stores_parquet.parquet\")"
   ],
   "id": "c2534752055613ec",
   "outputs": [],
   "execution_count": 5
  }
 ],
 "metadata": {
  "kernelspec": {
   "display_name": "Python 3",
   "language": "python",
   "name": "python3"
  },
  "language_info": {
   "codemirror_mode": {
    "name": "ipython",
    "version": 2
   },
   "file_extension": ".py",
   "mimetype": "text/x-python",
   "name": "python",
   "nbconvert_exporter": "python",
   "pygments_lexer": "ipython2",
   "version": "2.7.6"
  }
 },
 "nbformat": 4,
 "nbformat_minor": 5
}
